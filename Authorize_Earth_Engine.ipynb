{
 "metadata": {
  "kernelspec": {
   "codemirror_mode": {
    "name": "ipython",
    "version": 2
   },
   "display_name": "IPython (Python 2)",
   "language": "python",
   "name": "python2"
  },
  "name": "",
  "signature": "sha256:4478b4d5274115cfe4199ea7524364cded831274b9a89632d9d7eb91f204bb76"
 },
 "nbformat": 3,
 "nbformat_minor": 0,
 "worksheets": [
  {
   "cells": [
    {
     "cell_type": "markdown",
     "metadata": {},
     "source": [
      "This script installs the Earth Engine Python API and authorizes the IPython Notebook server's access to Earth Engine. This process only has to be done one time.\n",
      "\n",
      "Note that this process currently requires a user to generate an authentication token outside of the IPython Notebook."
     ]
    },
    {
     "cell_type": "heading",
     "level": 1,
     "metadata": {},
     "source": [
      "Install the Earth Engine Python API"
     ]
    },
    {
     "cell_type": "code",
     "collapsed": false,
     "input": [
      "!pip install oauth2client"
     ],
     "language": "python",
     "metadata": {},
     "outputs": []
    },
    {
     "cell_type": "code",
     "collapsed": false,
     "input": [
      "!pip install --no-deps earthengine-api"
     ],
     "language": "python",
     "metadata": {},
     "outputs": []
    },
    {
     "cell_type": "code",
     "collapsed": false,
     "input": [
      "import ee"
     ],
     "language": "python",
     "metadata": {},
     "outputs": []
    },
    {
     "cell_type": "code",
     "collapsed": false,
     "input": [
      "ee.Initialize()"
     ],
     "language": "python",
     "metadata": {},
     "outputs": []
    },
    {
     "cell_type": "heading",
     "level": 1,
     "metadata": {},
     "source": [
      "Configure authentication to Earth Engine"
     ]
    },
    {
     "cell_type": "markdown",
     "metadata": {},
     "source": [
      "Declare an authentication token that was generated outside of the IPython Notebook using the instructions found in the Setting Up Authentication Credentials section of the [Python API Installation and Access](https://sites.google.com/site/earthengineapidocs/python-api) page of the Earth Engine API documentation."
     ]
    },
    {
     "cell_type": "code",
     "collapsed": false,
     "input": [
      "refresh_token = \"REFRESH_TOKEN_GOES_HERE\""
     ],
     "language": "python",
     "metadata": {},
     "outputs": []
    },
    {
     "cell_type": "markdown",
     "metadata": {},
     "source": [
      "Save the refresh token to the IPython Server's file system for later use."
     ]
    },
    {
     "cell_type": "code",
     "collapsed": false,
     "input": [
      "import errno\n",
      "import json\n",
      "import os\n",
      "from ee.oauthinfo import OAuthInfo\n",
      "\n",
      "credentials_path = OAuthInfo.credentials_path()\n",
      "dirname = os.path.dirname(credentials_path)\n",
      "try:\n",
      "  os.makedirs(dirname)\n",
      "except OSError, e:\n",
      "  if e.errno != errno.EEXIST:\n",
      "    raise Exception('Error creating %s: %s' % (dirname, e))\n",
      "\n",
      "json.dump({'refresh_token': refresh_token}, open(credentials_path, 'w'))\n",
      "\n",
      "print '\\nSuccessfully saved authorization to %s' % credentials_path"
     ],
     "language": "python",
     "metadata": {},
     "outputs": []
    },
    {
     "cell_type": "heading",
     "level": 1,
     "metadata": {},
     "source": [
      "Test it out"
     ]
    },
    {
     "cell_type": "code",
     "collapsed": false,
     "input": [
      "# Initialize the Earth Engine object, using the authentication credentials. \n",
      "ee.Initialize() \n",
      "\n",
      "# Print the information for an image asset. \n",
      "image = ee.Image('srtm90_v4') \n",
      "print(image.getInfo())"
     ],
     "language": "python",
     "metadata": {},
     "outputs": []
    },
    {
     "cell_type": "code",
     "collapsed": false,
     "input": [],
     "language": "python",
     "metadata": {},
     "outputs": []
    }
   ],
   "metadata": {}
  }
 ]
}
