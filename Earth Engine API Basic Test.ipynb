{
 "metadata": {
  "name": "",
  "signature": "sha256:56deeb1ce888eb8d18b9a3f0512f5a8408db725416c13adfaffd40ea6fb97adc"
 },
 "nbformat": 3,
 "nbformat_minor": 0,
 "worksheets": [
  {
   "cells": [
    {
     "cell_type": "code",
     "collapsed": false,
     "input": [
      "import os\n",
      "import ee\n",
      "\n",
      "# This script assumes your authentication credentials are stored as operatoring system\n",
      "# environment variables.\n",
      "MY_SERVICE_ACCOUNT = os.environ.get('MY_SERVICE_ACCOUNT')\n",
      "MY_PRIVATE_KEY_FILE = os.environ.get('MY_PRIVATE_KEY_FILE')\n",
      "\n",
      "# Initialize the Earth Engine object, using your authentication credentials.\n",
      "ee.Initialize(ee.ServiceAccountCredentials(MY_SERVICE_ACCOUNT, MY_PRIVATE_KEY_FILE))\n",
      "\n",
      "# Print the information for an image.\n",
      "image = ee.Image('srtm90_v4')\n",
      "print(image.getInfo())"
     ],
     "language": "python",
     "metadata": {},
     "outputs": [
      {
       "output_type": "stream",
       "stream": "stderr",
       "text": [
        "WARNING:oauth2client.util:new_request() takes at most 1 positional argument (4 given)\n"
       ]
      },
      {
       "output_type": "stream",
       "stream": "stdout",
       "text": [
        "{u'bands': [{u'crs': u'EPSG:4326', u'crs_transform': [0.0008333333535119891, 0.0, -180.0, 0.0, -0.0008333333535119891, 60.0], u'id': u'elevation', u'data_type': {u'max': 32767, u'type': u'PixelType', u'precision': u'int', u'min': -32768}, u'dimensions': [432000, 144000]}], u'version': 1394719201958000, u'type': u'Image', u'id': u'srtm90_v4', u'properties': {u'system:footprint': {u'type': u'LinearRing', u'coordinates': [[-180.0, 90.0], [-180.0, -90.0], [180.0, -90.0], [180.0, 90.0], [-180.0, 90.0]]}, u'system:time_end': 951177600000, u'google:footprint': {u'type': u'LinearRing', u'coordinates': [[-180.0, 60.0], [-180.0, -60.0], [180.0, -60.0], [180.0, 60.0], [-180.0, 60.0]]}, u'system:time_start': 950227200000}}\n"
       ]
      }
     ],
     "prompt_number": 5
    },
    {
     "cell_type": "code",
     "collapsed": false,
     "input": [
      "from IPython.display import Image\n",
      "Image(url=image.getThumbUrl())"
     ],
     "language": "python",
     "metadata": {},
     "outputs": [
      {
       "output_type": "stream",
       "stream": "stderr",
       "text": [
        "WARNING:oauth2client.util:new_request() takes at most 1 positional argument (4 given)\n"
       ]
      },
      {
       "html": [
        "<img src=\"https://earthengine.googleapis.com//api/thumb?thumbid=0d66b9cb10cbce8e02654fc7dbaba651&token=0f78580515a7928f5ab1b0b297c58a1f\"/>"
       ],
       "metadata": {},
       "output_type": "pyout",
       "prompt_number": 6,
       "text": [
        "<IPython.core.display.Image at 0x102da1dd0>"
       ]
      }
     ],
     "prompt_number": 6
    },
    {
     "cell_type": "code",
     "collapsed": false,
     "input": [],
     "language": "python",
     "metadata": {},
     "outputs": [],
     "prompt_number": 6
    }
   ],
   "metadata": {}
  }
 ]
}