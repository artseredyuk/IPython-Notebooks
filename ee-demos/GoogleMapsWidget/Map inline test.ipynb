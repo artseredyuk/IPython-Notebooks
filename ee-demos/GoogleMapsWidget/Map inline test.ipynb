{
 "metadata": {
  "name": "",
  "signature": "sha256:294594ff0ba3eb73cdf67065d0a7328f92954d784f743e8bb1f9f5d740b8fc2e"
 },
 "nbformat": 3,
 "nbformat_minor": 0,
 "worksheets": [
  {
   "cells": [
    {
     "cell_type": "code",
     "collapsed": false,
     "input": [
      "import ee\n",
      "import json\n",
      "import os"
     ],
     "language": "python",
     "metadata": {},
     "outputs": [],
     "prompt_number": 5
    },
    {
     "cell_type": "code",
     "collapsed": false,
     "input": [
      "# This script assumes your authentication credentials are stored as operatoring system\n",
      "# environment variables.\n",
      "MY_SERVICE_ACCOUNT = os.environ.get('MY_SERVICE_ACCOUNT')\n",
      "MY_PRIVATE_KEY_FILE = os.environ.get('MY_PRIVATE_KEY_FILE')\n",
      "\n",
      "# Initialize the Earth Engine object, using your authentication credentials.\n",
      "ee.Initialize(ee.ServiceAccountCredentials(MY_SERVICE_ACCOUNT, MY_PRIVATE_KEY_FILE))"
     ],
     "language": "python",
     "metadata": {},
     "outputs": [
      {
       "output_type": "stream",
       "stream": "stderr",
       "text": [
        "WARNING:oauth2client.util:new_request() takes at most 1 positional argument (4 given)\n"
       ]
      }
     ],
     "prompt_number": 6
    },
    {
     "cell_type": "code",
     "collapsed": false,
     "input": [
      "# iframe_with_source is a utility function to let us insert HTML into an iframe\n",
      "# as an iPython result\n",
      "\n",
      "from IPython.display import HTML\n",
      "import json\n",
      "\n",
      "def iframe_with_source(source, height):\n",
      "    name = 'iframe-%d' % get_ipython().execution_count\n",
      "    source = json.dumps(source)\n",
      "    source = source.replace('</script', '</scr\"+\"ipt')\n",
      "    width = '100%'\n",
      "    height = '%spx' % height\n",
      "    template = \"\"\"\n",
      "<iframe id=\"%s\" style=\"width:%s; height:%s\"></iframe>\n",
      "<script>\n",
      "document.getElementById('%s').srcdoc = %s;\n",
      "</script>\n",
      "\"\"\"\n",
      "    # Fill in the %s slots with id, width, height, and the HTML source\n",
      "    return HTML(template % (name, width, height, name, source))"
     ],
     "language": "python",
     "metadata": {},
     "outputs": [],
     "prompt_number": 7
    },
    {
     "cell_type": "code",
     "collapsed": false,
     "input": [
      "# Try out iframe_with_source with a on trivially simple web page.  Note python's triple-quote syntax for multi-line strings.\n",
      "\n",
      "source = \"\"\"\n",
      "<html>\n",
      "  <body>\n",
      "    Hello world!\n",
      "  </body>\n",
      "</html>\"\"\"\n",
      "height = 100  # pixels\n",
      "iframe_with_source(source, height)"
     ],
     "language": "python",
     "metadata": {},
     "outputs": [
      {
       "html": [
        "\n",
        "<iframe id=\"iframe-8\" style=\"width:100%; height:100px\"></iframe>\n",
        "<script>\n",
        "document.getElementById('iframe-8').srcdoc = \"\\n<html>\\n  <body>\\n    Hello world!\\n  </body>\\n</html>\";\n",
        "</script>\n"
       ],
       "metadata": {},
       "output_type": "pyout",
       "prompt_number": 8,
       "text": [
        "<IPython.core.display.HTML at 0x1081b4310>"
       ]
      }
     ],
     "prompt_number": 8
    },
    {
     "cell_type": "code",
     "collapsed": false,
     "input": [
      "import ee\n",
      "viz_params = {'bands':'B4,B3,B2','min':5000,'max':10000}\n",
      "image = ee.Image('LC81412332013146LGN00')\n",
      "mapid = image.getMapId(viz_params)"
     ],
     "language": "python",
     "metadata": {},
     "outputs": [
      {
       "output_type": "stream",
       "stream": "stderr",
       "text": [
        "WARNING:oauth2client.util:new_request() takes at most 1 positional argument (4 given)\n"
       ]
      }
     ],
     "prompt_number": 9
    },
    {
     "cell_type": "code",
     "collapsed": false,
     "input": [
      "# Construct HTML source for viewing page, with javascript_series inserted\n",
      "# Insert as an <iframe> to prevent conflicts between this code and the parent page.\n",
      "\n",
      "src = \"\"\"\n",
      "<html style=\"height:100%\">\n",
      "<head>\n",
      "    <script src=\"http://maps.googleapis.com/maps/api/js?sensor=false\"></script>\n",
      "    <script src=\"http://api.cmucreatelab.org/exp-0.1/js/CanvasLayer.js\"></script>\n",
      "    <script src=\"http://api.cmucreatelab.org/exp-0.1/js/utils.js\"></script>\n",
      "    <script src=\"http://api.cmucreatelab.org/exp-0.1/js/series.js\"></script>\n",
      "    <script>\n",
      "\"\"\"\n",
      "\n",
      "src += \"\"\"\n",
      "<!DOCTYPE html>\n",
      "<!--\n",
      "An example web page that creates and displays a custom Google Maps API Map Type\n",
      "for Earth Engine map tiles.  See Google Maps documentation on Custom Map Types\n",
      "for details.\n",
      "-->\n",
      "<html>\n",
      "  <head>\n",
      "    <title>EE Map</title>\n",
      "    <script type=\"text/javascript\"\n",
      "      src=\"https://maps.google.com/maps/api/js?sensor=false\"></script>\n",
      "    <style type=\"text/css\">\n",
      "      html { height: 100% }\n",
      "      body { height: 100%; margin: 0; padding: 0 }\n",
      "      #map{\n",
      "          width: 100%;\n",
      "          height: 100%;\n",
      "      }\n",
      "    </style>\n",
      "\n",
      "\"\"\"\n",
      "\n",
      "src += \"\"\"\n",
      "    <script type=\"text/javascript\">\n",
      "      var MAPID = '{mapid}';\n",
      "      var TOKEN = '{token}';\n",
      "      var LATITUDE = 70;\n",
      "      var LONGITUDE = -142;\n",
      "      var ZOOM = 6;\n",
      "\"\"\".format(mapid=mapid['mapid'],token=mapid['token']) \n",
      "\n",
      "src += \"\"\"\n",
      "      /**\n",
      "      * The Google Maps API calls getTileUrl when it tries to display a maps\n",
      "      * tile.  This is a good place to swap in the mapid and token we got from\n",
      "      * the Python script. The other values describe other properties of the\n",
      "      * custom map type.\n",
      "      */\n",
      "      var eeMapOptions = {\n",
      "        getTileUrl: function(tile, zoom) {\n",
      "          var url = ['https://earthengine.googleapis.com/map',\n",
      "                     MAPID, zoom, tile.x, tile.y].join(\"/\");\n",
      "          url += '?token=' + TOKEN\n",
      "          return url;\n",
      "        },\n",
      "        tileSize: new google.maps.Size(256, 256),\n",
      "      };\n",
      "\n",
      "      // Create the map type.\n",
      "      var mapType = new google.maps.ImageMapType(eeMapOptions);\n",
      "\n",
      "      // Initialize the Google Map and add our map.\n",
      "      function initialize() {\n",
      "        var myLatLng = new google.maps.LatLng(LATITUDE, LONGITUDE);\n",
      "        var mapOptions = {\n",
      "          center: myLatLng,\n",
      "          zoom: ZOOM,\n",
      "          maxZoom: 12,\n",
      "          streetViewControl: false,\n",
      "        };\n",
      "\n",
      "        var map = new google.maps.Map(document.getElementById(\"map\"),\n",
      "                                      mapOptions);\n",
      "        map.overlayMapTypes.push(mapType);\n",
      "      }\n",
      "\n",
      "      window.onload = initialize;\n",
      "    </script>\n",
      "\n",
      "  </head>\n",
      "  <body>\n",
      "    <div id=\"map\"></div>\n",
      "  </body>\n",
      "</html>\n",
      "\"\"\"\n",
      "\n",
      "height = 500\n",
      "iframe_with_source(src, height)"
     ],
     "language": "python",
     "metadata": {},
     "outputs": [
      {
       "html": [
        "\n",
        "<iframe id=\"iframe-10\" style=\"width:100%; height:500px\"></iframe>\n",
        "<script>\n",
        "document.getElementById('iframe-10').srcdoc = \"\\n<html style=\\\"height:100%\\\">\\n<head>\\n    <script src=\\\"http://maps.googleapis.com/maps/api/js?sensor=false\\\"></scr\"+\"ipt>\\n    <script src=\\\"http://api.cmucreatelab.org/exp-0.1/js/CanvasLayer.js\\\"></scr\"+\"ipt>\\n    <script src=\\\"http://api.cmucreatelab.org/exp-0.1/js/utils.js\\\"></scr\"+\"ipt>\\n    <script src=\\\"http://api.cmucreatelab.org/exp-0.1/js/series.js\\\"></scr\"+\"ipt>\\n    <script>\\n\\n<!DOCTYPE html>\\n<!--\\nAn example web page that creates and displays a custom Google Maps API Map Type\\nfor Earth Engine map tiles.  See Google Maps documentation on Custom Map Types\\nfor details.\\n-->\\n<html>\\n  <head>\\n    <title>EE Map</title>\\n    <script type=\\\"text/javascript\\\"\\n      src=\\\"https://maps.google.com/maps/api/js?sensor=false\\\"></scr\"+\"ipt>\\n    <style type=\\\"text/css\\\">\\n      html { height: 100% }\\n      body { height: 100%; margin: 0; padding: 0 }\\n      #map{\\n          width: 100%;\\n          height: 100%;\\n      }\\n    </style>\\n\\n\\n    <script type=\\\"text/javascript\\\">\\n      var MAPID = '24b67e7a864e6d63584f0d77a55bcc48';\\n      var TOKEN = 'ffcfa4012c0c0809ab233ca1cbdb88d6';\\n      var LATITUDE = 70;\\n      var LONGITUDE = -142;\\n      var ZOOM = 6;\\n\\n      /**\\n      * The Google Maps API calls getTileUrl when it tries to display a maps\\n      * tile.  This is a good place to swap in the mapid and token we got from\\n      * the Python script. The other values describe other properties of the\\n      * custom map type.\\n      */\\n      var eeMapOptions = {\\n        getTileUrl: function(tile, zoom) {\\n          var url = ['https://earthengine.googleapis.com/map',\\n                     MAPID, zoom, tile.x, tile.y].join(\\\"/\\\");\\n          url += '?token=' + TOKEN\\n          return url;\\n        },\\n        tileSize: new google.maps.Size(256, 256),\\n      };\\n\\n      // Create the map type.\\n      var mapType = new google.maps.ImageMapType(eeMapOptions);\\n\\n      // Initialize the Google Map and add our map.\\n      function initialize() {\\n        var myLatLng = new google.maps.LatLng(LATITUDE, LONGITUDE);\\n        var mapOptions = {\\n          center: myLatLng,\\n          zoom: ZOOM,\\n          maxZoom: 12,\\n          streetViewControl: false,\\n        };\\n\\n        var map = new google.maps.Map(document.getElementById(\\\"map\\\"),\\n                                      mapOptions);\\n        map.overlayMapTypes.push(mapType);\\n      }\\n\\n      window.onload = initialize;\\n    </scr\"+\"ipt>\\n\\n  </head>\\n  <body>\\n    <div id=\\\"map\\\"></div>\\n  </body>\\n</html>\\n\";\n",
        "</script>\n"
       ],
       "metadata": {},
       "output_type": "pyout",
       "prompt_number": 10,
       "text": [
        "<IPython.core.display.HTML at 0x1070e4c50>"
       ]
      }
     ],
     "prompt_number": 10
    },
    {
     "cell_type": "code",
     "collapsed": false,
     "input": [],
     "language": "python",
     "metadata": {},
     "outputs": []
    }
   ],
   "metadata": {}
  }
 ]
}