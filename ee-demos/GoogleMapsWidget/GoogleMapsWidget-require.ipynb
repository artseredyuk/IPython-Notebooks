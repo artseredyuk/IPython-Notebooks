{
 "metadata": {
  "name": "",
  "signature": "sha256:61e9dc55f9ed523ad5b253b2bbbc7de565cc027e3bd75953ce0678a79ca3eaf1"
 },
 "nbformat": 3,
 "nbformat_minor": 0,
 "worksheets": [
  {
   "cells": [
    {
     "cell_type": "code",
     "collapsed": false,
     "input": [
      "from __future__ import print_function # For py 2.7 compat\n",
      "\n",
      "from IPython.html import widgets # Widget definitions\n",
      "from IPython.display import display # Used to display widgets in the notebook\n",
      "from IPython.utils.traitlets import Unicode, CInt, CFloat # Used to declare attributes of our widget\n",
      "\n",
      "from IPython.core.display import Javascript"
     ],
     "language": "python",
     "metadata": {},
     "outputs": []
    },
    {
     "cell_type": "heading",
     "level": 2,
     "metadata": {},
     "source": [
      "Create a Google Maps widget."
     ]
    },
    {
     "cell_type": "code",
     "collapsed": false,
     "input": [
      "class GoogleMapsWidget(widgets.DOMWidget):\n",
      "    _view_name = Unicode('GoogleMapsView', sync=True)\n",
      "    value = Unicode(sync=True)\n",
      "    description = Unicode(sync=True)\n",
      "    x = CFloat(0, help=\"Float value\", sync=True)\n",
      "    y = CFloat(0, help=\"Float value\", sync=True)\n",
      "    zoom = CInt(0, help=\"Int value\", sync=True)\n",
      "    \n",
      "    def __init__(self, x, y, zoom):\n",
      "        self.x = x\n",
      "        self.y = y\n",
      "        self.zoom = zoom"
     ],
     "language": "python",
     "metadata": {},
     "outputs": []
    },
    {
     "cell_type": "code",
     "collapsed": false,
     "input": [
      "%%javascript\n",
      "\n",
      "var load_paths = {\n",
      "        paths: {\n",
      "          gmaps: 'https://maps.googleapis.com/maps/api/js?v=3&sensor=false&callback=gmap_initialize'\n",
      "        }\n",
      "      };\n",
      "require.config(load_paths);\n",
      "\n",
      "require([\"widgets/js/widget\", \"gmaps\"], function(WidgetManager, gmaps){\n",
      "\n",
      "    window.gmap_initialize = function() {};\n",
      "                 \n",
      "    //var map;\n",
      "    var maps = [];\n",
      "    \n",
      "    // Define the GoogleMapsView\n",
      "    var GoogleMapsView = IPython.DOMWidgetView.extend({\n",
      "        \n",
      "        render: function() {\n",
      "\n",
      "            var self = this;\n",
      "            \n",
      "            // Create the Google Maps container element.\n",
      "            this.$map = $('<div />')\n",
      "                .attr('id', 'map-canvas')\n",
      "                .css('height', '200px')\n",
      "                .css('width', '600px')\n",
      "                .appendTo(this.$el);\n",
      "            \n",
      "            // Wrap the initialization in a setTimeout function, so the map div is loaded first.\n",
      "            setTimeout(function() {\n",
      "                //console.log(self.$el.width(), self.$el.height())\n",
      "            \n",
      "                // Create a label to display text.\n",
      "                //self.$label = $('<p />')\n",
      "                self.$label = $('<p>DEBUG</p>')\n",
      "                    .appendTo(self.$el);\n",
      "            \n",
      "                // Set some initial parameters for the map.\n",
      "                var mapOptions = {\n",
      "                    center: new google.maps.LatLng(self.model.get('y'), self.model.get('x')),\n",
      "                    zoom: self.model.get('zoom')\n",
      "                };\n",
      "            \n",
      "                // Populate the map container element.\n",
      "                var map = new google.maps.Map(self.$map[0], mapOptions);\n",
      "            \n",
      "                // Add an event listener for when the zoom level changes.\n",
      "                google.maps.event.addListener(map, 'zoom_changed', function() {\n",
      "                    self.handleZoomChanged(this.zoom);\n",
      "                });\n",
      "            \n",
      "                // Add an event listener for when the map is panned.\n",
      "                google.maps.event.addListener(map, 'center_changed', function() {\n",
      "                    self.handleCenterChanged(this.center);\n",
      "                });\n",
      "                \n",
      "                maps.push(map);\n",
      "                \n",
      "                // Bind the map center and zoom values together.\n",
      "                // TODO: allow the user to configure which maps are synced.\n",
      "                if (maps.length > 1) {\n",
      "                    maps[maps.length - 1].bindTo('center', maps[0]);\n",
      "                    maps[maps.length - 1].bindTo('zoom', maps[0]);\n",
      "                }   \n",
      "                    \n",
      "            }, 0);\n",
      "        },\n",
      "        \n",
      "        update: function() {\n",
      "            console.log('update')\n",
      "             \n",
      "            // Update the text label with the location and zoom level.\n",
      "            var description = '(' + this.model.get('x') + ', ' \n",
      "                                  + this.model.get('y') + ', ' \n",
      "                                  + this.model.get('zoom') + ')';\n",
      "            this.$label.text(description);\n",
      "            \n",
      "            // Update the Google Map with the values of the model.\n",
      "           \n",
      "            //var myLatLng = new google.maps.LatLng(this.model.get('y'), this.model.get('x'));\n",
      "            //map.setCenter(myLatLng);\n",
      "            \n",
      "            return GoogleMapsView.__super__.update.apply(this);\n",
      "        },\n",
      "        \n",
      "        // Tell Backbone to listen to the change event of input controls.\n",
      "        events: {\"change\": \"handle_zoom_change\"},\n",
      "        \n",
      "        // TODO - investigate the use of DomListeners\n",
      "        // https://developers.google.com/maps/documentation/javascript/events#DomEvents\n",
      "        \n",
      "        // Callback for when the zoom is changed.\n",
      "        handleZoomChanged: function(zoom) {\n",
      "            console.log('handleZoomChanged')\n",
      "            this.model.set('zoom', zoom);\n",
      "            this.touch();\n",
      "        },\n",
      "        \n",
      "        // Callback for when the map center is changed.\n",
      "        handleCenterChanged: function(center) {\n",
      "            console.log('handleCenterChanged')\n",
      "            this.model.set('x', center.lng());\n",
      "            this.model.set('y', center.lat());\n",
      "            this.touch();\n",
      "        },\n",
      "    \n",
      "    });\n",
      "    \n",
      "    // Register the GoogleMapsView with the widget manager.\n",
      "    WidgetManager.register_widget_view('GoogleMapsView', GoogleMapsView);\n",
      "});"
     ],
     "language": "python",
     "metadata": {},
     "outputs": []
    },
    {
     "cell_type": "heading",
     "level": 2,
     "metadata": {},
     "source": [
      "Create a Google Map Widget instance."
     ]
    },
    {
     "cell_type": "code",
     "collapsed": false,
     "input": [
      "myWidget = GoogleMapsWidget(x=-100.0, y=40.0, zoom=5)"
     ],
     "language": "python",
     "metadata": {},
     "outputs": []
    },
    {
     "cell_type": "code",
     "collapsed": false,
     "input": [
      "display(myWidget)"
     ],
     "language": "python",
     "metadata": {},
     "outputs": []
    },
    {
     "cell_type": "code",
     "collapsed": false,
     "input": [
      "display(myWidget)"
     ],
     "language": "python",
     "metadata": {},
     "outputs": []
    },
    {
     "cell_type": "code",
     "collapsed": false,
     "input": [
      "# Print out some properties.\n",
      "myWidget.x, myWidget.y, myWidget.zoom"
     ],
     "language": "python",
     "metadata": {},
     "outputs": []
    },
    {
     "cell_type": "code",
     "collapsed": false,
     "input": [],
     "language": "python",
     "metadata": {},
     "outputs": []
    }
   ],
   "metadata": {}
  }
 ]
}