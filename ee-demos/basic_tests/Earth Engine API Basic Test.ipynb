{
 "metadata": {
  "name": "",
  "signature": "sha256:e500bc3a76e822e23791e78689a00d01d4777ba0c2d3ca082d2fcb37ccde6c9c"
 },
 "nbformat": 3,
 "nbformat_minor": 0,
 "worksheets": [
  {
   "cells": [
    {
     "cell_type": "heading",
     "level": 1,
     "metadata": {},
     "source": [
      "Initialize Earth Engine."
     ]
    },
    {
     "cell_type": "code",
     "collapsed": false,
     "input": [
      "import os\n",
      "import ee\n",
      "\n",
      "# This script assumes your authentification credentials are stored as operatoring system\n",
      "# environment variables.\n",
      "MY_SERVICE_ACCOUNT = os.environ.get('MY_SERVICE_ACCOUNT')\n",
      "MY_PRIVATE_KEY_FILE = os.environ.get('MY_PRIVATE_KEY_FILE')\n",
      "\n",
      "# Initialize the Earth Engine object, using your authentication credentials.\n",
      "ee.Initialize(ee.ServiceAccountCredentials(MY_SERVICE_ACCOUNT, MY_PRIVATE_KEY_FILE))"
     ],
     "language": "python",
     "metadata": {},
     "outputs": []
    },
    {
     "cell_type": "heading",
     "level": 1,
     "metadata": {},
     "source": [
      "Get an image."
     ]
    },
    {
     "cell_type": "code",
     "collapsed": false,
     "input": [
      "image = ee.Image('srtm90_v4')"
     ],
     "language": "python",
     "metadata": {},
     "outputs": []
    },
    {
     "cell_type": "heading",
     "level": 1,
     "metadata": {},
     "source": [
      "Display the image. "
     ]
    },
    {
     "cell_type": "code",
     "collapsed": false,
     "input": [
      "from IPython.display import Image\n",
      "Image(url=image.getThumbUrl({'min':0, 'max':3000}))"
     ],
     "language": "python",
     "metadata": {},
     "outputs": []
    },
    {
     "cell_type": "code",
     "collapsed": false,
     "input": [],
     "language": "python",
     "metadata": {},
     "outputs": []
    }
   ],
   "metadata": {}
  }
 ]
}